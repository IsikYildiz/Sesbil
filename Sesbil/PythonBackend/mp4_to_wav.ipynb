{
 "cells": [
  {
   "cell_type": "code",
   "execution_count": 7,
   "metadata": {},
   "outputs": [],
   "source": [
    "import os\n",
    "from pydub import AudioSegment\n",
    "\n",
    "input_path=\"C:\\\\SeslerMP4\"\n",
    "output_path=\"C:\\\\Sesler\"\n",
    "\n",
    "def convert_to_wav(input_file,output_file):\n",
    "    sound = AudioSegment.from_file(input_file, format='m4a')\n",
    "    sound.export(output_file,format='wav')\n",
    "\n",
    "for filename in os.listdir(input_path):\n",
    "    if filename.endswith('.m4a'):\n",
    "        input_file=os.path.join(input_path,filename)\n",
    "        output_file=os.path.join(output_path,filename.replace('.m4a','.wav'))\n",
    "        convert_to_wav(input_file,output_file)"
   ]
  }
 ],
 "metadata": {
  "kernelspec": {
   "display_name": "YazilimSinama",
   "language": "python",
   "name": "python3"
  },
  "language_info": {
   "codemirror_mode": {
    "name": "ipython",
    "version": 3
   },
   "file_extension": ".py",
   "mimetype": "text/x-python",
   "name": "python",
   "nbconvert_exporter": "python",
   "pygments_lexer": "ipython3",
   "version": "3.8.20"
  }
 },
 "nbformat": 4,
 "nbformat_minor": 2
}
